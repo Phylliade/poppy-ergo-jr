{
 "cells": [
  {
   "cell_type": "code",
   "execution_count": 1,
   "metadata": {
    "collapsed": true
   },
   "outputs": [],
   "source": [
    "import pypot\n",
    "from poppy.creatures import PoppyErgo\n",
    "import time"
   ]
  },
  {
   "cell_type": "code",
   "execution_count": 2,
   "metadata": {
    "collapsed": false
   },
   "outputs": [],
   "source": [
    "pypot.vrep.close_all_connections()\n",
    "poppy = PoppyErgo(simulator='vrep', scene=\"/home/theo/Documents/code/poppy-ergo/software/poppy_ergo/vrep-scene/poppy-ergo.ttt\")"
   ]
  },
  {
   "cell_type": "code",
   "execution_count": 7,
   "metadata": {
    "collapsed": false
   },
   "outputs": [
    {
     "name": "stdout",
     "output_type": "stream",
     "text": [
      "-74.1\n",
      "-69.7\n",
      "-75.2\n",
      "-75.1\n",
      "-75.0\n",
      "-67.8\n"
     ]
    }
   ],
   "source": [
    "for m in poppy.motors:\n",
    "    m.compliant = False\n",
    "    m.goal_position = 0\n",
    "    print m.present_position"
   ]
  },
  {
   "cell_type": "code",
   "execution_count": 9,
   "metadata": {
    "collapsed": false
   },
   "outputs": [],
   "source": [
    "poppy.m2.goal_position = -10\n",
    "\n",
    "poppy.m1.goal_position = 22\n",
    "poppy.m3.goal_position = -22"
   ]
  },
  {
   "cell_type": "code",
   "execution_count": 18,
   "metadata": {
    "collapsed": false
   },
   "outputs": [],
   "source": [
    "for p in poppy.active_primitives:\n",
    "    p.stop()"
   ]
  },
  {
   "cell_type": "code",
   "execution_count": 11,
   "metadata": {
    "collapsed": false
   },
   "outputs": [],
   "source": [
    "from pypot.primitive import Primitive\n",
    "class Jump(Primitive):\n",
    "    def setup(self):\n",
    "        self.up = {'m1': 0, 'm2': -10, 'm3': -20, 'm4': 0, 'm5': -35, 'm6': -35}\n",
    "        self.down = {'m1': 0, 'm2': -75, 'm3': 55, 'm4': 0, 'm5': 35, 'm6': 35}\n",
    "\n",
    "        for m in self.robot.motors:\n",
    "            m.compliant = False\n",
    "            m.pid = (10., 0., 0.)\n",
    "            m.moving_speed = 0.\n",
    "\n",
    "    def run(self):\n",
    "        while not self.should_stop():\n",
    "            if self.should_pause():\n",
    "                self.wait_to_resume()\n",
    "\n",
    "            for name, p in self.up.items():\n",
    "                m = getattr(self.robot, name)\n",
    "                m.moving_speed = 0\n",
    "                m.goal_position = p\n",
    "            time.sleep(.2)\n",
    "\n",
    "            for name, p in self.down.items():\n",
    "                m = getattr(self.robot, name)\n",
    "                m.moving_speed = 250.\n",
    "                m.goal_position = p\n",
    "            time.sleep(.4)\n",
    "\n",
    "    def teardown(self):\n",
    "        for m in self.robot.motors:\n",
    "            m.pid = (4., 0., 0.)\n"
   ]
  },
  {
   "cell_type": "code",
   "execution_count": 12,
   "metadata": {
    "collapsed": false
   },
   "outputs": [],
   "source": [
    "j= Jump(poppy)"
   ]
  },
  {
   "cell_type": "code",
   "execution_count": 13,
   "metadata": {
    "collapsed": true
   },
   "outputs": [],
   "source": [
    "j.start()"
   ]
  },
  {
   "cell_type": "code",
   "execution_count": null,
   "metadata": {
    "collapsed": true
   },
   "outputs": [],
   "source": []
  }
 ],
 "metadata": {
  "kernelspec": {
   "display_name": "Python 2",
   "language": "python",
   "name": "python2"
  },
  "language_info": {
   "codemirror_mode": {
    "name": "ipython",
    "version": 2
   },
   "file_extension": ".py",
   "mimetype": "text/x-python",
   "name": "python",
   "nbconvert_exporter": "python",
   "pygments_lexer": "ipython2",
   "version": "2.7.10"
  }
 },
 "nbformat": 4,
 "nbformat_minor": 0
}
