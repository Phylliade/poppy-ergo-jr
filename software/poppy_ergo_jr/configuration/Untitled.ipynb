{
 "cells": [
  {
   "cell_type": "code",
   "execution_count": 9,
   "metadata": {
    "collapsed": false
   },
   "outputs": [
    {
     "name": "stderr",
     "output_type": "stream",
     "text": [
      "WARNING:pypot.vrep:Big vrep sleep: 1449077032.93\n"
     ]
    }
   ],
   "source": [
    "import json\n",
    "with open('poppy_ergo_jr.json') as f:\n",
    "    config = json.load(f)\n",
    "\n",
    "from pypot.robot import from_config\n",
    "from pypot.vrep import from_vrep\n",
    "#true_robot = from_config(config)\n",
    "simulated_robot = from_vrep(config, '127.0.0.1', 19997, '/home/theo/Downloads/defaut.ttt')"
   ]
  },
  {
   "cell_type": "code",
   "execution_count": 1,
   "metadata": {
    "collapsed": false
   },
   "outputs": [],
   "source": [
    "from poppy.creatures import PoppyErgoJr\n",
    "poppy = PoppyErgoJr()"
   ]
  },
  {
   "cell_type": "code",
   "execution_count": 7,
   "metadata": {
    "collapsed": false
   },
   "outputs": [],
   "source": [
    "for m in poppy.motors:\n",
    "    m.compliant = False\n",
    "    m.goal_position = 0"
   ]
  },
  {
   "cell_type": "code",
   "execution_count": 10,
   "metadata": {
    "collapsed": false
   },
   "outputs": [],
   "source": [
    "for m in simulated_robot.motors:\n",
    "    m.compliant = False\n",
    "    m.goal_position = 0"
   ]
  },
  {
   "cell_type": "code",
   "execution_count": null,
   "metadata": {
    "collapsed": true
   },
   "outputs": [],
   "source": []
  }
 ],
 "metadata": {
  "kernelspec": {
   "display_name": "Python 2",
   "language": "python",
   "name": "python2"
  },
  "language_info": {
   "codemirror_mode": {
    "name": "ipython",
    "version": 2
   },
   "file_extension": ".py",
   "mimetype": "text/x-python",
   "name": "python",
   "nbconvert_exporter": "python",
   "pygments_lexer": "ipython2",
   "version": "2.7.10"
  }
 },
 "nbformat": 4,
 "nbformat_minor": 0
}
